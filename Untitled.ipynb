{
 "cells": [
  {
   "cell_type": "code",
   "execution_count": 70,
   "metadata": {
    "collapsed": false
   },
   "outputs": [],
   "source": [
    "import numpy as num\n",
    "import cymetric as cym"
   ]
  },
  {
   "cell_type": "code",
   "execution_count": 71,
   "metadata": {
    "collapsed": true
   },
   "outputs": [],
   "source": [
    "from cymetric import convenient_interface as cinv"
   ]
  },
  {
   "cell_type": "code",
   "execution_count": 72,
   "metadata": {
    "collapsed": true
   },
   "outputs": [],
   "source": [
    "loop_list = ['PWR', 'FBR']\n",
    "model_list = ['fuelfab', 'mixer', 'neural']\n",
    "DM_list = ['nodecay', 'decay']\n",
    "neural_extra_list = ['recipe', 'depletion']"
   ]
  },
  {
   "cell_type": "code",
   "execution_count": 73,
   "metadata": {
    "collapsed": false
   },
   "outputs": [],
   "source": [
    "cal_list = []\n",
    "for loop in loop_list[:1]:\n",
    "    for model in model_list:\n",
    "        for DM in DM_list:\n",
    "            if model == 'neural':\n",
    "                for NN_extra in neural_extra_list:\n",
    "                    path_to_db_ = loop + '/' + model + '/' + DM + '/'\n",
    "                    path_to_db_ += NN_extra + '/' + 'cyclus.sqlite'\n",
    "                    cal_list.append(path_to_db_)\n",
    "            else:\n",
    "                path_to_db_ = loop + '/' + model + '/' + DM + '/'\n",
    "                path_to_db_ += 'cyclus.sqlite'\n",
    "                cal_list.append(path_to_db_)"
   ]
  },
  {
   "cell_type": "code",
   "execution_count": 74,
   "metadata": {
    "collapsed": false
   },
   "outputs": [
    {
     "name": "stdout",
     "output_type": "stream",
     "text": [
      "PWR/fuelfab/nodecay/cyclus.sqlite\n",
      "PWR/fuelfab/decay/cyclus.sqlite\n",
      "PWR/mixer/nodecay/cyclus.sqlite\n",
      "PWR/mixer/decay/cyclus.sqlite\n",
      "PWR/neural/nodecay/recipe/cyclus.sqlite\n",
      "PWR/neural/nodecay/depletion/cyclus.sqlite\n",
      "PWR/neural/decay/recipe/cyclus.sqlite\n",
      "PWR/neural/decay/depletion/cyclus.sqlite\n"
     ]
    }
   ],
   "source": [
    "for cal in cal_list:\n",
    "    print(cal)"
   ]
  },
  {
   "cell_type": "code",
   "execution_count": 109,
   "metadata": {
    "collapsed": false
   },
   "outputs": [
    {
     "name": "stdout",
     "output_type": "stream",
     "text": [
      "PWR/fuelfab/nodecay/cyclus.sqlite\n",
      "PWR/fuelfab/decay/cyclus.sqlite\n",
      "PWR/mixer/nodecay/cyclus.sqlite\n",
      "PWR/mixer/decay/cyclus.sqlite\n",
      "PWR/neural/nodecay/recipe/cyclus.sqlite\n",
      "PWR/neural/nodecay/depletion/cyclus.sqlite\n",
      "PWR/neural/decay/recipe/cyclus.sqlite\n",
      "PWR/neural/decay/depletion/cyclus.sqlite\n"
     ]
    }
   ],
   "source": [
    "pu_enricht_list = []\n",
    "for cal in cal_list:\n",
    "    print(cal)\n",
    "    db = cym.dbopen(cal)\n",
    "    fuel_flow = cinv.GetTransactionTimeSeries(db,receiver='PWR')\n",
    "    fuel_flow_pu = cinv.GetTransactionTimeSeries(db,'All','PWR','pu238','pu239','pu240','pu241','pu242','am241')\n",
    "    fuel_flow_pu_enrich = fuel_flow_pu/fuel_flow\n",
    "    fuel_flow_pu_enrich = fuel_flow_pu_enrich.rename(index=str, columns={'Quantity': cal[:-14]})\n",
    "    fuel_flow_pu_enrich.reset_index(inplace=True)\n",
    "    pu_enricht_list.append(fuel_flow_pu_enrich)\n",
    "    filename_ = cal[:-13] + 'Fuel_PU_enricht.dat'\n",
    "    file = open(filename_,\"w\")\n",
    "    file.write('Time Val\\n')\n",
    "    for i in range(len(fuel_flow_pu_enrich)):\n",
    "        t = float(fuel_flow_pu_enrich.iloc[i,0])/12.\n",
    "        file.write(str(t) )\n",
    "        file.write(\" \")\n",
    "        file.write( str(fuel_flow_pu_enrich.iloc[i,1]*100.))\n",
    "        file.write(\"\\n\")\n",
    "    file.close()\n",
    "    db.close()"
   ]
  },
  {
   "cell_type": "code",
   "execution_count": 101,
   "metadata": {
    "collapsed": false,
    "scrolled": true
   },
   "outputs": [
    {
     "data": {
      "text/html": [
       "<div>\n",
       "<table border=\"1\" class=\"dataframe\">\n",
       "  <thead>\n",
       "    <tr style=\"text-align: right;\">\n",
       "      <th></th>\n",
       "      <th>Time</th>\n",
       "      <th>PWR/neural/nodecay/depletion</th>\n",
       "    </tr>\n",
       "  </thead>\n",
       "  <tbody>\n",
       "    <tr>\n",
       "      <th>0</th>\n",
       "      <td>4</td>\n",
       "      <td>0.089187</td>\n",
       "    </tr>\n",
       "    <tr>\n",
       "      <th>1</th>\n",
       "      <td>58</td>\n",
       "      <td>0.089187</td>\n",
       "    </tr>\n",
       "    <tr>\n",
       "      <th>2</th>\n",
       "      <td>112</td>\n",
       "      <td>0.089187</td>\n",
       "    </tr>\n",
       "    <tr>\n",
       "      <th>3</th>\n",
       "      <td>166</td>\n",
       "      <td>0.089187</td>\n",
       "    </tr>\n",
       "    <tr>\n",
       "      <th>4</th>\n",
       "      <td>220</td>\n",
       "      <td>0.089187</td>\n",
       "    </tr>\n",
       "    <tr>\n",
       "      <th>5</th>\n",
       "      <td>274</td>\n",
       "      <td>0.089169</td>\n",
       "    </tr>\n",
       "    <tr>\n",
       "      <th>6</th>\n",
       "      <td>328</td>\n",
       "      <td>0.087519</td>\n",
       "    </tr>\n",
       "    <tr>\n",
       "      <th>7</th>\n",
       "      <td>382</td>\n",
       "      <td>0.087526</td>\n",
       "    </tr>\n",
       "    <tr>\n",
       "      <th>8</th>\n",
       "      <td>436</td>\n",
       "      <td>0.087460</td>\n",
       "    </tr>\n",
       "    <tr>\n",
       "      <th>9</th>\n",
       "      <td>490</td>\n",
       "      <td>0.087454</td>\n",
       "    </tr>\n",
       "    <tr>\n",
       "      <th>10</th>\n",
       "      <td>544</td>\n",
       "      <td>0.087453</td>\n",
       "    </tr>\n",
       "    <tr>\n",
       "      <th>11</th>\n",
       "      <td>598</td>\n",
       "      <td>0.087452</td>\n",
       "    </tr>\n",
       "    <tr>\n",
       "      <th>12</th>\n",
       "      <td>652</td>\n",
       "      <td>0.087452</td>\n",
       "    </tr>\n",
       "    <tr>\n",
       "      <th>13</th>\n",
       "      <td>706</td>\n",
       "      <td>0.087452</td>\n",
       "    </tr>\n",
       "    <tr>\n",
       "      <th>14</th>\n",
       "      <td>760</td>\n",
       "      <td>0.087452</td>\n",
       "    </tr>\n",
       "    <tr>\n",
       "      <th>15</th>\n",
       "      <td>814</td>\n",
       "      <td>0.087452</td>\n",
       "    </tr>\n",
       "    <tr>\n",
       "      <th>16</th>\n",
       "      <td>868</td>\n",
       "      <td>0.087452</td>\n",
       "    </tr>\n",
       "    <tr>\n",
       "      <th>17</th>\n",
       "      <td>922</td>\n",
       "      <td>0.087452</td>\n",
       "    </tr>\n",
       "    <tr>\n",
       "      <th>18</th>\n",
       "      <td>976</td>\n",
       "      <td>0.087452</td>\n",
       "    </tr>\n",
       "    <tr>\n",
       "      <th>19</th>\n",
       "      <td>1030</td>\n",
       "      <td>0.087452</td>\n",
       "    </tr>\n",
       "    <tr>\n",
       "      <th>20</th>\n",
       "      <td>1084</td>\n",
       "      <td>0.087452</td>\n",
       "    </tr>\n",
       "  </tbody>\n",
       "</table>\n",
       "</div>"
      ],
      "text/plain": [
       "    Time  PWR/neural/nodecay/depletion\n",
       "0      4                      0.089187\n",
       "1     58                      0.089187\n",
       "2    112                      0.089187\n",
       "3    166                      0.089187\n",
       "4    220                      0.089187\n",
       "5    274                      0.089169\n",
       "6    328                      0.087519\n",
       "7    382                      0.087526\n",
       "8    436                      0.087460\n",
       "9    490                      0.087454\n",
       "10   544                      0.087453\n",
       "11   598                      0.087452\n",
       "12   652                      0.087452\n",
       "13   706                      0.087452\n",
       "14   760                      0.087452\n",
       "15   814                      0.087452\n",
       "16   868                      0.087452\n",
       "17   922                      0.087452\n",
       "18   976                      0.087452\n",
       "19  1030                      0.087452\n",
       "20  1084                      0.087452"
      ]
     },
     "execution_count": 101,
     "metadata": {},
     "output_type": "execute_result"
    }
   ],
   "source": [
    "\n",
    "fuel_flow_pu_enrich.reset_index(inplace=True)\n",
    "pu_enricht_list[5]"
   ]
  },
  {
   "cell_type": "code",
   "execution_count": 44,
   "metadata": {
    "collapsed": false
   },
   "outputs": [
    {
     "name": "stdout",
     "output_type": "stream",
     "text": [
      "0.0619922897936\n",
      "0.0684206087623\n",
      "0.0740045587696\n",
      "0.079593639205\n",
      "0.0833601552053\n",
      "0.0842985580522\n",
      "0.0842351922755\n",
      "0.0850103786694\n",
      "0.0839532436147\n",
      "0.0825040155248\n",
      "0.0862844302392\n",
      "0.0815685346731\n",
      "0.0806072043614\n",
      "0.0814939113715\n",
      "0.0805903283377\n",
      "0.0806009256541\n",
      "0.0797055565685\n",
      "0.0801287222994\n",
      "0.0796643939438\n",
      "0.0796943895686\n",
      "0.0797330011612\n",
      "0.0801687088332\n",
      "0.07974288026\n",
      "0.0802092172233\n",
      "0.0797697408234\n",
      "0.080204646016\n",
      "0.0797714051049\n",
      "0.0801868418099\n",
      "0.0793498325445\n",
      "0.0797921664229\n",
      "0.0793626743818\n",
      "0.0797908460648\n",
      "0.079364657727\n",
      "0.0797998609428\n",
      "0.0798258804172\n",
      "0.0802583870661\n",
      "0.0798508710337\n",
      "0.0797979888508\n",
      "0.08066842287\n",
      "0.0798579390716\n",
      "0.0798623801434\n",
      "0.0806687104327\n",
      "0.0798580377602\n",
      "0.0807299953493\n",
      "0.0789566815424\n",
      "0.0789971250639\n",
      "0.0807200641774\n",
      "0.0798533968174\n",
      "0.0802916523583\n",
      "0.079861208301\n",
      "0.079418851892\n",
      "0.0807331822758\n",
      "0.079869910328\n",
      "0.0798796435792\n",
      "0.0806597230246\n",
      "0.079837877228\n",
      "0.0802981287897\n",
      "0.0798707967853\n",
      "0.0798726305214\n",
      "0.0807019404937\n",
      "0.0798633104527\n",
      "0.0798709498988\n",
      "0.0807263995009\n",
      "0.079831630071\n",
      "0.0802732945023\n",
      "0.0798566797284\n"
     ]
    }
   ],
   "source": [
    "for i in range(len(fuel_flow_pu_enrich)):\n",
    "    print(fuel_flow_pu_enrich.iloc[i,2])"
   ]
  },
  {
   "cell_type": "code",
   "execution_count": 83,
   "metadata": {
    "collapsed": true
   },
   "outputs": [],
   "source": [
    "\n",
    "db2 = cym.dbopen('PWR/neural/decay/recipe/cyclus.sqlite')\n",
    "fuel_flow = cinv.GetTransactionTimeSeries(db2,receiver='PWR')\n",
    "fuel_flow_pu = cinv.GetTransactionTimeSeries(db2,'All','PWR','pu238','pu239','pu240','pu241','pu242','am241')\n",
    "fuel_flow_pu_enrich = fuel_flow_pu/fuel_flow\n",
    "fuel_flow_pu_enrich = fuel_flow_pu_enrich.rename(index=str, columns={'Quantity': cal[:-14]})\n",
    "  "
   ]
  },
  {
   "cell_type": "code",
   "execution_count": 84,
   "metadata": {
    "collapsed": false
   },
   "outputs": [
    {
     "data": {
      "text/html": [
       "<div>\n",
       "<table border=\"1\" class=\"dataframe\">\n",
       "  <thead>\n",
       "    <tr style=\"text-align: right;\">\n",
       "      <th></th>\n",
       "      <th>PWR/neural/decay/recipe</th>\n",
       "    </tr>\n",
       "    <tr>\n",
       "      <th>Time</th>\n",
       "      <th></th>\n",
       "    </tr>\n",
       "  </thead>\n",
       "  <tbody>\n",
       "    <tr>\n",
       "      <th>4</th>\n",
       "      <td>0.081551</td>\n",
       "    </tr>\n",
       "    <tr>\n",
       "      <th>58</th>\n",
       "      <td>0.088365</td>\n",
       "    </tr>\n",
       "    <tr>\n",
       "      <th>112</th>\n",
       "      <td>0.094178</td>\n",
       "    </tr>\n",
       "    <tr>\n",
       "      <th>166</th>\n",
       "      <td>0.099483</td>\n",
       "    </tr>\n",
       "    <tr>\n",
       "      <th>220</th>\n",
       "      <td>0.103807</td>\n",
       "    </tr>\n",
       "    <tr>\n",
       "      <th>274</th>\n",
       "      <td>0.104756</td>\n",
       "    </tr>\n",
       "    <tr>\n",
       "      <th>328</th>\n",
       "      <td>0.105717</td>\n",
       "    </tr>\n",
       "    <tr>\n",
       "      <th>382</th>\n",
       "      <td>0.105212</td>\n",
       "    </tr>\n",
       "    <tr>\n",
       "      <th>436</th>\n",
       "      <td>0.104722</td>\n",
       "    </tr>\n",
       "    <tr>\n",
       "      <th>490</th>\n",
       "      <td>0.108980</td>\n",
       "    </tr>\n",
       "    <tr>\n",
       "      <th>544</th>\n",
       "      <td>0.105651</td>\n",
       "    </tr>\n",
       "    <tr>\n",
       "      <th>598</th>\n",
       "      <td>0.104705</td>\n",
       "    </tr>\n",
       "    <tr>\n",
       "      <th>652</th>\n",
       "      <td>0.106605</td>\n",
       "    </tr>\n",
       "    <tr>\n",
       "      <th>706</th>\n",
       "      <td>0.105673</td>\n",
       "    </tr>\n",
       "    <tr>\n",
       "      <th>760</th>\n",
       "      <td>0.106624</td>\n",
       "    </tr>\n",
       "    <tr>\n",
       "      <th>814</th>\n",
       "      <td>0.105192</td>\n",
       "    </tr>\n",
       "    <tr>\n",
       "      <th>868</th>\n",
       "      <td>0.106625</td>\n",
       "    </tr>\n",
       "  </tbody>\n",
       "</table>\n",
       "</div>"
      ],
      "text/plain": [
       "      PWR/neural/decay/recipe\n",
       "Time                         \n",
       "4                    0.081551\n",
       "58                   0.088365\n",
       "112                  0.094178\n",
       "166                  0.099483\n",
       "220                  0.103807\n",
       "274                  0.104756\n",
       "328                  0.105717\n",
       "382                  0.105212\n",
       "436                  0.104722\n",
       "490                  0.108980\n",
       "544                  0.105651\n",
       "598                  0.104705\n",
       "652                  0.106605\n",
       "706                  0.105673\n",
       "760                  0.106624\n",
       "814                  0.105192\n",
       "868                  0.106625"
      ]
     },
     "execution_count": 84,
     "metadata": {},
     "output_type": "execute_result"
    }
   ],
   "source": [
    "fuel_flow_pu_enrich"
   ]
  },
  {
   "cell_type": "code",
   "execution_count": null,
   "metadata": {
    "collapsed": true
   },
   "outputs": [],
   "source": []
  }
 ],
 "metadata": {
  "kernelspec": {
   "display_name": "Python 3",
   "language": "python",
   "name": "python3"
  },
  "language_info": {
   "codemirror_mode": {
    "name": "ipython",
    "version": 3
   },
   "file_extension": ".py",
   "mimetype": "text/x-python",
   "name": "python",
   "nbconvert_exporter": "python",
   "pygments_lexer": "ipython3",
   "version": "3.5.2"
  }
 },
 "nbformat": 4,
 "nbformat_minor": 1
}
