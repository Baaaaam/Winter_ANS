{
 "cells": [
  {
   "cell_type": "code",
   "execution_count": 1,
   "metadata": {
    "collapsed": false
   },
   "outputs": [
    {
     "name": "stderr",
     "output_type": "stream",
     "text": [
      "/opt/local/Library/Frameworks/Python.framework/Versions/3.5/lib/python3.5/importlib/_bootstrap.py:222: QAWarning: pyne.data is not yet QA compliant.\n",
      "  return f(*args, **kwds)\n",
      "/opt/local/Library/Frameworks/Python.framework/Versions/3.5/lib/python3.5/importlib/_bootstrap.py:222: QAWarning: pyne.material is not yet QA compliant.\n",
      "  return f(*args, **kwds)\n",
      "/opt/local/Library/Frameworks/Python.framework/Versions/3.5/lib/python3.5/importlib/_bootstrap.py:222: QAWarning: pyne.enrichment is not yet QA compliant.\n",
      "  return f(*args, **kwds)\n"
     ]
    }
   ],
   "source": [
    "import numpy as num\n",
    "import cymetric as cym\n",
    "import pandas as pd"
   ]
  },
  {
   "cell_type": "code",
   "execution_count": 2,
   "metadata": {
    "collapsed": true
   },
   "outputs": [],
   "source": [
    "from cymetric import convenient_interface as cinv"
   ]
  },
  {
   "cell_type": "code",
   "execution_count": 3,
   "metadata": {
    "collapsed": true
   },
   "outputs": [],
   "source": [
    "loop_list = ['PWR', 'FBR']\n",
    "model_list = ['fuelfab', 'mixer', 'neural']\n",
    "DM_list = ['nodecay', 'decay']\n",
    "neural_extra_list = ['recipe', 'depletion']"
   ]
  },
  {
   "cell_type": "code",
   "execution_count": 4,
   "metadata": {
    "collapsed": false
   },
   "outputs": [],
   "source": [
    "#build calcualation list\n",
    "cal_list = []\n",
    "for loop in loop_list[:1]:\n",
    "    for model in model_list:\n",
    "        for DM in DM_list:\n",
    "            if model == 'neural':\n",
    "                for NN_extra in neural_extra_list:\n",
    "                    path_to_db_ = loop + '/' + model + '/' + DM + '/'\n",
    "                    path_to_db_ += NN_extra + '/' + 'cyclus.sqlite'\n",
    "                    cal_list.append(path_to_db_)\n",
    "            else:\n",
    "                path_to_db_ = loop + '/' + model + '/' + DM + '/'\n",
    "                path_to_db_ += 'cyclus.sqlite'\n",
    "                cal_list.append(path_to_db_)"
   ]
  },
  {
   "cell_type": "code",
   "execution_count": 5,
   "metadata": {
    "collapsed": false
   },
   "outputs": [
    {
     "name": "stdout",
     "output_type": "stream",
     "text": [
      "12\n",
      "-1\n",
      "10\n",
      "-1\n",
      "11\n",
      "11\n",
      "-1\n",
      "-1\n"
     ]
    }
   ],
   "source": [
    "for cal in cal_list:\n",
    "    print(cal[:-13].find(\"nodecay\"))"
   ]
  },
  {
   "cell_type": "code",
   "execution_count": 6,
   "metadata": {
    "collapsed": false
   },
   "outputs": [
    {
     "name": "stdout",
     "output_type": "stream",
     "text": [
      "PWR/fuelfab/nodecay/cyclus.sqlite\n",
      "PWR/fuelfab/decay/cyclus.sqlite\n",
      "PWR/mixer/nodecay/cyclus.sqlite\n",
      "PWR/mixer/decay/cyclus.sqlite\n",
      "PWR/neural/nodecay/recipe/cyclus.sqlite\n",
      "PWR/neural/nodecay/depletion/cyclus.sqlite\n",
      "PWR/neural/decay/recipe/cyclus.sqlite\n",
      "PWR/neural/decay/depletion/cyclus.sqlite\n"
     ]
    }
   ],
   "source": [
    "# Fuel enrichement All case\n",
    "pu_enricht_list = []\n",
    "for cal in cal_list:\n",
    "    print(cal)\n",
    "    db = cym.dbopen(cal)\n",
    "    fuel_flow = cinv.GetTransactionTimeSeries(db,receiver='PWR')\n",
    "    fuel_flow_pu = cinv.GetTransactionTimeSeries(db,'All','PWR','pu238','pu239','pu240','pu241','pu242','am241')\n",
    "    fuel_flow_pu_enrich = fuel_flow_pu/fuel_flow\n",
    "    fuel_flow_pu_enrich = fuel_flow_pu_enrich.rename(index=str, columns={'Quantity': cal[:-14]})\n",
    "    fuel_flow_pu_enrich.reset_index(inplace=True)\n",
    "    pu_enricht_list.append(fuel_flow_pu_enrich)\n",
    "    filename_ = cal[:-13] + 'Fuel_PU_enricht.dat'\n",
    "    file = open(filename_,\"w\")\n",
    "    file.write('Time Val\\n')\n",
    "    for i in range(len(fuel_flow_pu_enrich)):\n",
    "        t = float(fuel_flow_pu_enrich.iloc[i,0])/12.\n",
    "        file.write(str(t) )\n",
    "        file.write(\" \")\n",
    "        file.write( str(fuel_flow_pu_enrich.iloc[i,1]*100.))\n",
    "        file.write(\"\\n\")\n",
    "    file.close()\n",
    "    db.close()"
   ]
  },
  {
   "cell_type": "code",
   "execution_count": 7,
   "metadata": {
    "collapsed": false
   },
   "outputs": [
    {
     "name": "stdout",
     "output_type": "stream",
     "text": [
      "PWR/fuelfab/nodecay/cyclus.sqlite\n",
      "PWR/fuelfab/decay/cyclus.sqlite\n",
      "PWR/mixer/nodecay/cyclus.sqlite\n",
      "PWR/mixer/decay/cyclus.sqlite\n",
      "PWR/neural/nodecay/recipe/cyclus.sqlite\n",
      "PWR/neural/nodecay/depletion/cyclus.sqlite\n",
      "PWR/neural/decay/recipe/cyclus.sqlite\n",
      "PWR/neural/decay/depletion/cyclus.sqlite\n"
     ]
    }
   ],
   "source": [
    "# pu composition IN fuel\n",
    "for cal in cal_list:\n",
    "    print(cal)\n",
    "    db2 = cym.dbopen(cal)\n",
    "    fuel_flow = cinv.GetTransactionTimeSeries(db2,'All','PWR','pu238','pu239','pu240','pu241','pu242','am241')\n",
    "    pu_list = ['pu238','pu239','pu240','pu241','pu242']\n",
    "    if( cal[:-13].find(\"nodecay\") == -1 ):\n",
    "        pu_list.append('am241')\n",
    "\n",
    "    fuel_flow_pu = []\n",
    "    for pu in pu_list:\n",
    "        fuel_flow_pu_tmp = cinv.GetTransactionTimeSeries(db2,'All','PWR', pu)\n",
    "        fuel_flow_pu.append( fuel_flow_pu_tmp/fuel_flow)\n",
    "\n",
    "    filename_ = cal[:-13] + 'Fuel_Pu.composition.dat'\n",
    "    file = open(filename_,\"w\")\n",
    "    nuc = 0\n",
    "    if( cal[:-13].find(\"nodecay\") == -1 ):\n",
    "        file.write('Time Pu238 Pu239 Pu240 Pu241 Pu242 Am241\\n')\n",
    "        nuc = 6\n",
    "    else:\n",
    "        file.write('Time Pu238 Pu239 Pu240 Pu241 Pu242\\n')\n",
    "        nuc = 5\n",
    "    for j in range(nuc):\n",
    "        fuel_flow_pu[j].reset_index(inplace=True)\n",
    "\n",
    "    for i in range(len(fuel_flow_pu[0])):\n",
    "        t = float(fuel_flow_pu[0].iloc[i,0])/12.\n",
    "        file.write( str(t) )\n",
    "        file.write(\" \")\n",
    "        for j in range(nuc):\n",
    "            file.write( str(fuel_flow_pu[j].iloc[i,1]*100.))\n",
    "            file.write(\" \")\n",
    "        file.write(\"\\n\")\n",
    "    file.close()\n",
    "    db2.close()"
   ]
  },
  {
   "cell_type": "code",
   "execution_count": 8,
   "metadata": {
    "collapsed": false,
    "scrolled": false
   },
   "outputs": [
    {
     "name": "stdout",
     "output_type": "stream",
     "text": [
      "PWR/fuelfab/nodecay/cyclus.sqlite\n",
      "PWR/fuelfab/decay/cyclus.sqlite\n",
      "PWR/mixer/nodecay/cyclus.sqlite\n",
      "PWR/mixer/decay/cyclus.sqlite\n",
      "PWR/neural/nodecay/recipe/cyclus.sqlite\n",
      "PWR/neural/nodecay/depletion/cyclus.sqlite\n",
      "PWR/neural/decay/recipe/cyclus.sqlite\n",
      "PWR/neural/decay/depletion/cyclus.sqlite\n"
     ]
    }
   ],
   "source": [
    "# pu amount IN fuel\n",
    "for cal in cal_list:\n",
    "    print(cal)\n",
    "    db2 = cym.dbopen(cal)\n",
    "    fuel_flow = cinv.GetTransactionTimeSeries(db2,'All','PWR')\n",
    "    pu_list = ['pu238','pu239','pu240','pu241','pu242']\n",
    "    if( cal[:-13].find(\"nodecay\") == -1 ):\n",
    "        pu_list.append('am241')\n",
    "\n",
    "    fuel_flow_pu = []\n",
    "    for pu in pu_list:\n",
    "        fuel_flow_pu_tmp = cinv.GetTransactionTimeSeries(db2,'All','PWR', pu)\n",
    "        fuel_flow_pu.append( fuel_flow_pu_tmp/fuel_flow)\n",
    "\n",
    "    filename_ = cal[:-13] + 'Fuel_Pu.amount.dat'\n",
    "    file = open(filename_,\"w\")\n",
    "    nuc = 0\n",
    "    if( cal[:-13].find(\"nodecay\") == -1 ):\n",
    "        file.write('Time Pu238 Pu239 Pu240 Pu241 Pu242 Am241\\n')\n",
    "        nuc = 6\n",
    "    else:\n",
    "        file.write('Time Pu238 Pu239 Pu240 Pu241 Pu242\\n')\n",
    "        nuc = 5\n",
    "    for j in range(nuc):\n",
    "        fuel_flow_pu[j].reset_index(inplace=True)\n",
    "\n",
    "\n",
    "    for i in range(len(fuel_flow_pu[0])):\n",
    "        t = float(fuel_flow_pu[0].iloc[i,0])/12.\n",
    "        file.write( str(t) )\n",
    "        file.write(\" \")\n",
    "        for j in range(nuc):\n",
    "            file.write( str(fuel_flow_pu[j].iloc[i,1]*100.))\n",
    "            file.write(\" \")\n",
    "        file.write(\"\\n\")\n",
    "    file.close()\n",
    "    db2.close()"
   ]
  },
  {
   "cell_type": "code",
   "execution_count": 9,
   "metadata": {
    "collapsed": false
   },
   "outputs": [
    {
     "name": "stdout",
     "output_type": "stream",
     "text": [
      "PWR/fuelfab/nodecay/cyclus.sqlite\n",
      "PWR/fuelfab/decay/cyclus.sqlite\n",
      "PWR/mixer/nodecay/cyclus.sqlite\n",
      "PWR/mixer/decay/cyclus.sqlite\n",
      "PWR/neural/nodecay/recipe/cyclus.sqlite\n",
      "PWR/neural/nodecay/depletion/cyclus.sqlite\n",
      "PWR/neural/decay/recipe/cyclus.sqlite\n",
      "PWR/neural/decay/depletion/cyclus.sqlite\n"
     ]
    }
   ],
   "source": [
    "# pu composition OUT fuel\n",
    "for cal in cal_list:\n",
    "    print(cal)\n",
    "    db2 = cym.dbopen(cal)\n",
    "    fuel_flow = cinv.GetTransactionTimeSeries(db2,'PWR','All','pu238','pu239','pu240','pu241','pu242','am241')\n",
    "    pu_list = ['pu238','pu239','pu240','pu241','pu242']\n",
    "    if( cal[:-13].find(\"nodecay\") == -1 ):\n",
    "        pu_list.append('am241')\n",
    "\n",
    "    fuel_flow_pu = []\n",
    "    for pu in pu_list:\n",
    "        fuel_flow_pu_tmp = cinv.GetTransactionTimeSeries(db2,'PWR','All', pu)\n",
    "        fuel_flow_pu.append( fuel_flow_pu_tmp/fuel_flow)\n",
    "\n",
    "    filename_ = cal[:-13] + 'Spent_Fuel_Pu.composition.dat'\n",
    "    file = open(filename_,\"w\")\n",
    "    nuc = 0\n",
    "    if( cal[:-13].find(\"nodecay\") == -1 ):\n",
    "        file.write('Time Pu238 Pu239 Pu240 Pu241 Pu242 Am241\\n')\n",
    "        nuc = 6\n",
    "    else:\n",
    "        file.write('Time Pu238 Pu239 Pu240 Pu241 Pu242\\n')\n",
    "        nuc = 5\n",
    "    for j in range(nuc):\n",
    "        fuel_flow_pu[j].reset_index(inplace=True)\n",
    "\n",
    "\n",
    "    for i in range(len(fuel_flow_pu[0])):\n",
    "        t = float(fuel_flow_pu[0].iloc[i,0])/12.\n",
    "        file.write( str(t) )\n",
    "        file.write(\" \")\n",
    "        for j in range(nuc):\n",
    "            file.write( str(fuel_flow_pu[j].iloc[i,1]*100.))\n",
    "            file.write(\" \")\n",
    "        file.write(\"\\n\")\n",
    "    file.close()\n",
    "    db2.close()"
   ]
  },
  {
   "cell_type": "code",
   "execution_count": 10,
   "metadata": {
    "collapsed": false
   },
   "outputs": [
    {
     "name": "stdout",
     "output_type": "stream",
     "text": [
      "PWR/fuelfab/nodecay/cyclus.sqlite\n",
      "PWR/fuelfab/decay/cyclus.sqlite\n",
      "PWR/mixer/nodecay/cyclus.sqlite\n",
      "PWR/mixer/decay/cyclus.sqlite\n",
      "PWR/neural/nodecay/recipe/cyclus.sqlite\n",
      "PWR/neural/nodecay/depletion/cyclus.sqlite\n",
      "PWR/neural/decay/recipe/cyclus.sqlite\n",
      "PWR/neural/decay/depletion/cyclus.sqlite\n"
     ]
    }
   ],
   "source": [
    "# pu amount OUT fuel\n",
    "for cal in cal_list:\n",
    "    print(cal)\n",
    "    db2 = cym.dbopen(cal)\n",
    "    fuel_flow = cinv.GetTransactionTimeSeries(db2,'PWR','All')\n",
    "    pu_list = ['pu238','pu239','pu240','pu241','pu242']\n",
    "    if( cal[:-13].find(\"nodecay\") == -1 ):\n",
    "        pu_list.append('am241')\n",
    "\n",
    "    fuel_flow_pu = []\n",
    "    for pu in pu_list:\n",
    "        fuel_flow_pu_tmp = cinv.GetTransactionTimeSeries(db2,'PWR','All', pu)\n",
    "        fuel_flow_pu.append( fuel_flow_pu_tmp/fuel_flow)\n",
    "\n",
    "    filename_ = cal[:-13] + 'Spent_Fuel_Pu.amount.dat'\n",
    "    file = open(filename_,\"w\")\n",
    "    nuc = 0\n",
    "    if( cal[:-13].find(\"nodecay\") == -1 ):\n",
    "        file.write('Time Pu238 Pu239 Pu240 Pu241 Pu242 Am241\\n')\n",
    "        nuc = 6\n",
    "    else:\n",
    "        file.write('Time Pu238 Pu239 Pu240 Pu241 Pu242\\n')\n",
    "        nuc = 5\n",
    "    for j in range(nuc):\n",
    "        fuel_flow_pu[j].reset_index(inplace=True)\n",
    "\n",
    "\n",
    "    for i in range(len(fuel_flow_pu[0])):\n",
    "        t = float(fuel_flow_pu[0].iloc[i,0])/12.\n",
    "        file.write( str(t) )\n",
    "        file.write(\" \")\n",
    "        for j in range(nuc):\n",
    "            file.write( str(fuel_flow_pu[j].iloc[i,1]*100.))\n",
    "            file.write(\" \")\n",
    "        file.write(\"\\n\")\n",
    "    file.close()\n",
    "    db2.close()"
   ]
  },
  {
   "cell_type": "code",
   "execution_count": null,
   "metadata": {
    "collapsed": true
   },
   "outputs": [],
   "source": []
  }
 ],
 "metadata": {
  "kernelspec": {
   "display_name": "Python 3",
   "language": "python",
   "name": "python3"
  },
  "language_info": {
   "codemirror_mode": {
    "name": "ipython",
    "version": 3
   },
   "file_extension": ".py",
   "mimetype": "text/x-python",
   "name": "python",
   "nbconvert_exporter": "python",
   "pygments_lexer": "ipython3",
   "version": "3.5.2"
  }
 },
 "nbformat": 4,
 "nbformat_minor": 1
}
